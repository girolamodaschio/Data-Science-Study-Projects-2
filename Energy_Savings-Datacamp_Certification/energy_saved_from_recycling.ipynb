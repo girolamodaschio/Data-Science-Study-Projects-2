{
 "cells": [
  {
   "cell_type": "markdown",
   "id": "71444de5",
   "metadata": {},
   "source": [
    "## Energy saved from recycling \n",
    "\n",
    "Did you know that recycling saves energy by reducing or eliminating the need to make materials from scratch? For example, aluminum can manufacturers can skip the energy-costly process of producing aluminum from ore by cleaning and melting recycled cans. Aluminum is classified as a non-ferrous metal. Singapore has an ambitious goal of becoming a zero-waste nation. The amount of waste disposed of in Singapore has increased seven-fold over the last 40 years. At this rate, Semakau Landfill, Singapore’s only landfill, will run out of space by 2035. Making matters worse, Singapore has limited land for building new incineration plants or landfills. The government would like to motivate citizens by sharing the total energy that the combined recycling efforts have saved every year. They have asked you to help them. You have been provided with three datasets. The data come from different teams, so the names of waste types may differ.\n",
    "\n",
    "**datasets/wastestats.csv - Recycling statistics per waste type for the period 2003 to 2017**\n",
    "\n",
    "Source: [Singapore National Environment Agency](https://www.nea.gov.sg/our-services/waste-management/waste-statistics-and-overall-recycling)\n",
    "\n",
    "*   **waste\\_type:** The type of waste recycled.\n",
    "*   **waste\\_disposed\\_of\\_tonne:** The amount of waste that could not be recycled (in metric tonnes).\n",
    "*   **total\\_waste\\_recycle\\_tonne:** The amount of waste that could be recycled (in metric tonnes).\n",
    "*   **total\\_waste\\_generated:** The total amount of waste collected before recycling (in metric tonnes).\n",
    "*   **recycling\\_rate:** The amount of waste recycled per tonne of waste generated.\n",
    "*   **year:** The recycling year.\n",
    "\n",
    "**datasets/2018\\_2019\\_waste.csv - Recycling statistics per waste type for the period 2018 to 2019**\n",
    "\n",
    "Source: [Singapore National Environment Agency](https://www.nea.gov.sg/our-services/waste-management/waste-statistics-and-overall-recycling)\n",
    "\n",
    "*   **Waste Type:** The type of waste recycled.\n",
    "*   **Total Generated:** The total amount of waste collected before recycling (in thousands of metric tonnes).\n",
    "*   **Total Recycled:** The amount of waste that could be recycled. (in thousands of metric tonnes).\n",
    "*   **Year:** The recycling year.\n",
    "\n",
    "**datasets/energy\\_saved.csv - Estimations of the amount of energy saved per waste type in kWh**\n",
    "\n",
    "*   **material:** The type of waste recycled.\n",
    "*   **energy\\_saved:** An estimate of the energy saved (in kiloWatt hour) by recycling a metric tonne of waste.\n",
    "*   **crude\\_oil\\_saved:** An estimate of the number of barrels of oil saved by recycling a metric tonne of waste."
   ]
  },
  {
   "cell_type": "code",
   "execution_count": 23,
   "id": "14e67a04",
   "metadata": {},
   "outputs": [
    {
     "name": "stderr",
     "output_type": "stream",
     "text": [
      "<ipython-input-23-70413d0df7be>:50: SettingWithCopyWarning: \n",
      "A value is trying to be set on a copy of a slice from a DataFrame.\n",
      "Try using .loc[row_indexer,col_indexer] = value instead\n",
      "\n",
      "See the caveats in the documentation: https://pandas.pydata.org/pandas-docs/stable/user_guide/indexing.html#returning-a-view-versus-a-copy\n",
      "  stats_2_clean['waste_cant_recycle'] = stats_2_clean['total_waste_generated'] - stats_2_clean['waste_can_recycle']\n",
      "<ipython-input-23-70413d0df7be>:51: SettingWithCopyWarning: \n",
      "A value is trying to be set on a copy of a slice from a DataFrame.\n",
      "Try using .loc[row_indexer,col_indexer] = value instead\n",
      "\n",
      "See the caveats in the documentation: https://pandas.pydata.org/pandas-docs/stable/user_guide/indexing.html#returning-a-view-versus-a-copy\n",
      "  stats_2_clean ['recycling_rate'] = stats_2_clean['total_waste_generated'] / stats_2_clean['waste_can_recycle']\n"
     ]
    }
   ],
   "source": [
    "#Load everything to the working space\n",
    "\n",
    "import pandas as pd\n",
    "\n",
    "#Load csv\n",
    "\n",
    "stats_13_17 = pd.read_csv('datasets/wastestats.csv')\n",
    "stats_18_19 = pd.read_csv('datasets/2018_2019_waste.csv')\n",
    "energy_saved = pd.read_csv('datasets/energy_saved.csv')\n",
    "\n",
    "#Load as df\n",
    "\n",
    "stats_1 = pd.DataFrame(stats_13_17)\n",
    "stats_2 = pd.DataFrame(stats_18_19)\n",
    "stats_3 = pd.DataFrame(energy_saved)\n",
    "\n",
    "#Set the workspace\n",
    "pd.set_option('display.max_columns',85)\n",
    "pd.set_option('display.max_row',85)\n",
    "\n",
    "#Prepare the merge\n",
    "#Uniform columns name\n",
    "stats_1.columns = ['waste_type', 'waste_cant_recycle', 'waste_can_recycle', 'total_waste_generated', 'recycling_rate', 'year']\n",
    "stats_2.columns = ['waste_type', 'total_waste_generated_thousands', 'waste_can_recycle_thousands', 'year']\n",
    "\n",
    "#Clean stats_1\n",
    "stats_1['waste_type'] = stats_1['waste_type'].str.lower()\n",
    "stats_1['waste_type'] = stats_1['waste_type'].replace(['plastics', 'ferrous metals','ferrous metal','non-ferrous metals', 'non-ferrous metal'],['plastic', 'ferrous','ferrous', 'non-ferrous', 'non-ferrous'])\n",
    "\n",
    "#Create a filter of the words I need: cat\n",
    "cat = ['plastic', 'ferrous', 'non-ferrous', 'glass']\n",
    "filt = stats_1['waste_type'].isin(cat)\n",
    "\n",
    "#Create stats_1_clean\n",
    "stats_1_clean = stats_1.loc[filt]\n",
    "stats_1_clean.head()\n",
    "\n",
    "#Clean stats_2: stats_1_clean\n",
    "stats_2['waste_type'] = stats_2['waste_type'].str.lower()\n",
    "stats_2['waste_type'] = stats_2['waste_type'].replace(['ferrous metal', 'plastics', 'non-ferrous metal'],['ferrous', 'plastic', 'non-ferrous'])\n",
    "stats_2['total_waste_generated'] = stats_2['total_waste_generated_thousands'] * 1000\n",
    "stats_2['waste_can_recycle'] = stats_2['waste_can_recycle_thousands'] * 1000\n",
    "filt2 = stats_2['waste_type'].isin(cat)\n",
    "stats_2_clean = stats_2.loc[filt2]\n",
    "\n",
    "#Drop the not necessary columns\n",
    "stats_2_clean.drop(columns=['total_waste_generated_thousands', 'waste_can_recycle_thousands'],inplace=True)\n",
    "\n",
    "#Uniform stats_2_clean to stats_1 data\n",
    "stats_2_clean['waste_cant_recycle'] = stats_2_clean['total_waste_generated'] - stats_2_clean['waste_can_recycle']\n",
    "stats_2_clean ['recycling_rate'] = stats_2_clean['total_waste_generated'] / stats_2_clean['waste_can_recycle']\n",
    "stats_2_clean = stats_2_clean[['waste_type', 'waste_cant_recycle','waste_can_recycle','total_waste_generated','recycling_rate', 'year']]\n",
    "\n",
    "#Clean stats_3\n",
    "stats_3.columns = ['nat', 'Plastic', 'Glass', 'Ferrous', 'Non-ferrous', 'Paper']\n",
    "stats_3.drop(columns=['nat'],index=[0,1,2,4], inplace= True)"
   ]
  },
  {
   "cell_type": "code",
   "execution_count": 24,
   "id": "e2455e4e",
   "metadata": {},
   "outputs": [],
   "source": [
    "# Clean and complete df: all_stats\n",
    "\n",
    "df_list_I_need = [stats_1_clean, stats_2_clean]\n",
    "all_stats = pd.concat(df_list_I_need)\n",
    "all_stats.sort_values(by=['waste_type', 'year'], ascending=[True, True], inplace=True)\n",
    "all_stats['kwh'] = 0"
   ]
  },
  {
   "cell_type": "code",
   "execution_count": 25,
   "id": "6d2c1edb",
   "metadata": {},
   "outputs": [],
   "source": [
    "all_stats.set_index('waste_type', inplace=True)"
   ]
  },
  {
   "cell_type": "code",
   "execution_count": 26,
   "id": "64b46e9a",
   "metadata": {},
   "outputs": [],
   "source": [
    "all_stats.loc['ferrous','kwh'] = 642\n",
    "all_stats.loc['plastic','kwh'] = 5774\n",
    "all_stats.loc['glass','kwh'] = 42\n",
    "all_stats.loc['non-ferrous','kwh'] = 14000\n",
    "all_stats['prod'] = all_stats['waste_can_recycle'] * all_stats['kwh']"
   ]
  },
  {
   "cell_type": "code",
   "execution_count": 27,
   "id": "93c5f9a8",
   "metadata": {},
   "outputs": [],
   "source": [
    "year_grp = all_stats.groupby('year')\n",
    "y15 = year_grp.get_group(2015)\n",
    "y16 = year_grp.get_group(2016)\n",
    "y17 = year_grp.get_group(2017)\n",
    "y18 = year_grp.get_group(2018)\n",
    "y19 = year_grp.get_group(2019)\n"
   ]
  },
  {
   "cell_type": "code",
   "execution_count": 28,
   "id": "37e3e24f",
   "metadata": {},
   "outputs": [],
   "source": [
    "sum15 = y15['prod'].sum()\n",
    "sum16 = y16['prod'].sum()\n",
    "sum17 = y17['prod'].sum()\n",
    "sum18 = y18['prod'].sum()\n",
    "sum19 = y19['prod'].sum()"
   ]
  },
  {
   "cell_type": "code",
   "execution_count": 29,
   "id": "0159483c",
   "metadata": {},
   "outputs": [],
   "source": [
    "df = pd.DataFrame(columns=['year', 'total_energy_saved'])\n",
    "df['year'] = [2015, 2016, 2017, 2018, 2019]\n",
    "df['total_energy_saved'] = [sum15,sum16,sum17,sum18,sum19]\n",
    "df.set_index('year',inplace=True)"
   ]
  },
  {
   "cell_type": "code",
   "execution_count": 30,
   "id": "f98bfbb8",
   "metadata": {},
   "outputs": [],
   "source": [
    "df.to_csv('datasets/results.csv')"
   ]
  },
  {
   "cell_type": "code",
   "execution_count": null,
   "id": "b0a82f98",
   "metadata": {},
   "outputs": [],
   "source": []
  }
 ],
 "metadata": {
  "kernelspec": {
   "display_name": "Python 3",
   "language": "python",
   "name": "python3"
  },
  "language_info": {
   "codemirror_mode": {
    "name": "ipython",
    "version": 3
   },
   "file_extension": ".py",
   "mimetype": "text/x-python",
   "name": "python",
   "nbconvert_exporter": "python",
   "pygments_lexer": "ipython3",
   "version": "3.8.8"
  }
 },
 "nbformat": 4,
 "nbformat_minor": 5
}
